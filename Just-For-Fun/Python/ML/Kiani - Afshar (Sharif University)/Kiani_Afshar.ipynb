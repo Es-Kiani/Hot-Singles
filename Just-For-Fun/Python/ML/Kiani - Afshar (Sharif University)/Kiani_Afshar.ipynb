{
  "nbformat": 4,
  "nbformat_minor": 0,
  "metadata": {
    "colab": {
      "name": "Kiani - Afshar.ipynb",
      "provenance": [],
      "collapsed_sections": []
    },
    "kernelspec": {
      "name": "python3",
      "display_name": "Python 3"
    },
    "language_info": {
      "name": "python"
    }
  },
  "cells": [
    {
      "cell_type": "markdown",
      "source": [
        "*Imports*"
      ],
      "metadata": {
        "id": "iKv9kSkDzrLA"
      }
    },
    {
      "cell_type": "code",
      "execution_count": 89,
      "metadata": {
        "id": "rIc4Czv4kZIa"
      },
      "outputs": [],
      "source": [
        "import numpy as np\n",
        "import pandas as pd\n",
        "import sklearn as sl\n",
        "from sklearn import linear_model\n",
        "from sklearn.metrics import mean_absolute_error as mae\n",
        "# from sklearn.metrics import mean_squared_error as mse\n",
        "from sklearn.feature_selection import f_regression\n",
        "import matplotlib.pyplot as plt"
      ]
    },
    {
      "cell_type": "markdown",
      "source": [
        "*Data Reading*"
      ],
      "metadata": {
        "id": "X_YGYIqqzvXq"
      }
    },
    {
      "cell_type": "code",
      "source": [
        "data_df = pd.read_csv(\"data.csv\")\n",
        "data_df.head()"
      ],
      "metadata": {
        "colab": {
          "base_uri": "https://localhost:8080/",
          "height": 206
        },
        "id": "Fm5tDEG1k9rl",
        "outputId": "03d3ff44-60c1-438e-cacb-870cce69024a"
      },
      "execution_count": 154,
      "outputs": [
        {
          "output_type": "execute_result",
          "data": {
            "text/html": [
              "\n",
              "  <div id=\"df-e693d719-5522-4cb0-8302-72a9d53814a9\">\n",
              "    <div class=\"colab-df-container\">\n",
              "      <div>\n",
              "<style scoped>\n",
              "    .dataframe tbody tr th:only-of-type {\n",
              "        vertical-align: middle;\n",
              "    }\n",
              "\n",
              "    .dataframe tbody tr th {\n",
              "        vertical-align: top;\n",
              "    }\n",
              "\n",
              "    .dataframe thead th {\n",
              "        text-align: right;\n",
              "    }\n",
              "</style>\n",
              "<table border=\"1\" class=\"dataframe\">\n",
              "  <thead>\n",
              "    <tr style=\"text-align: right;\">\n",
              "      <th></th>\n",
              "      <th>Id</th>\n",
              "      <th>LotFrontage</th>\n",
              "      <th>LotArea</th>\n",
              "      <th>YearBuilt</th>\n",
              "      <th>BedroomAbvGr</th>\n",
              "      <th>KitchenAbvGr</th>\n",
              "      <th>YrSold</th>\n",
              "      <th>SalePrice</th>\n",
              "    </tr>\n",
              "  </thead>\n",
              "  <tbody>\n",
              "    <tr>\n",
              "      <th>0</th>\n",
              "      <td>1</td>\n",
              "      <td>65</td>\n",
              "      <td>8450</td>\n",
              "      <td>2003</td>\n",
              "      <td>3</td>\n",
              "      <td>1</td>\n",
              "      <td>2008</td>\n",
              "      <td>208500</td>\n",
              "    </tr>\n",
              "    <tr>\n",
              "      <th>1</th>\n",
              "      <td>2</td>\n",
              "      <td>80</td>\n",
              "      <td>9600</td>\n",
              "      <td>1976</td>\n",
              "      <td>3</td>\n",
              "      <td>1</td>\n",
              "      <td>2007</td>\n",
              "      <td>181500</td>\n",
              "    </tr>\n",
              "    <tr>\n",
              "      <th>2</th>\n",
              "      <td>3</td>\n",
              "      <td>68</td>\n",
              "      <td>11250</td>\n",
              "      <td>2001</td>\n",
              "      <td>3</td>\n",
              "      <td>1</td>\n",
              "      <td>2008</td>\n",
              "      <td>223500</td>\n",
              "    </tr>\n",
              "    <tr>\n",
              "      <th>3</th>\n",
              "      <td>4</td>\n",
              "      <td>60</td>\n",
              "      <td>9550</td>\n",
              "      <td>1915</td>\n",
              "      <td>3</td>\n",
              "      <td>1</td>\n",
              "      <td>2006</td>\n",
              "      <td>140000</td>\n",
              "    </tr>\n",
              "    <tr>\n",
              "      <th>4</th>\n",
              "      <td>5</td>\n",
              "      <td>84</td>\n",
              "      <td>14260</td>\n",
              "      <td>2000</td>\n",
              "      <td>4</td>\n",
              "      <td>1</td>\n",
              "      <td>2008</td>\n",
              "      <td>250000</td>\n",
              "    </tr>\n",
              "  </tbody>\n",
              "</table>\n",
              "</div>\n",
              "      <button class=\"colab-df-convert\" onclick=\"convertToInteractive('df-e693d719-5522-4cb0-8302-72a9d53814a9')\"\n",
              "              title=\"Convert this dataframe to an interactive table.\"\n",
              "              style=\"display:none;\">\n",
              "        \n",
              "  <svg xmlns=\"http://www.w3.org/2000/svg\" height=\"24px\"viewBox=\"0 0 24 24\"\n",
              "       width=\"24px\">\n",
              "    <path d=\"M0 0h24v24H0V0z\" fill=\"none\"/>\n",
              "    <path d=\"M18.56 5.44l.94 2.06.94-2.06 2.06-.94-2.06-.94-.94-2.06-.94 2.06-2.06.94zm-11 1L8.5 8.5l.94-2.06 2.06-.94-2.06-.94L8.5 2.5l-.94 2.06-2.06.94zm10 10l.94 2.06.94-2.06 2.06-.94-2.06-.94-.94-2.06-.94 2.06-2.06.94z\"/><path d=\"M17.41 7.96l-1.37-1.37c-.4-.4-.92-.59-1.43-.59-.52 0-1.04.2-1.43.59L10.3 9.45l-7.72 7.72c-.78.78-.78 2.05 0 2.83L4 21.41c.39.39.9.59 1.41.59.51 0 1.02-.2 1.41-.59l7.78-7.78 2.81-2.81c.8-.78.8-2.07 0-2.86zM5.41 20L4 18.59l7.72-7.72 1.47 1.35L5.41 20z\"/>\n",
              "  </svg>\n",
              "      </button>\n",
              "      \n",
              "  <style>\n",
              "    .colab-df-container {\n",
              "      display:flex;\n",
              "      flex-wrap:wrap;\n",
              "      gap: 12px;\n",
              "    }\n",
              "\n",
              "    .colab-df-convert {\n",
              "      background-color: #E8F0FE;\n",
              "      border: none;\n",
              "      border-radius: 50%;\n",
              "      cursor: pointer;\n",
              "      display: none;\n",
              "      fill: #1967D2;\n",
              "      height: 32px;\n",
              "      padding: 0 0 0 0;\n",
              "      width: 32px;\n",
              "    }\n",
              "\n",
              "    .colab-df-convert:hover {\n",
              "      background-color: #E2EBFA;\n",
              "      box-shadow: 0px 1px 2px rgba(60, 64, 67, 0.3), 0px 1px 3px 1px rgba(60, 64, 67, 0.15);\n",
              "      fill: #174EA6;\n",
              "    }\n",
              "\n",
              "    [theme=dark] .colab-df-convert {\n",
              "      background-color: #3B4455;\n",
              "      fill: #D2E3FC;\n",
              "    }\n",
              "\n",
              "    [theme=dark] .colab-df-convert:hover {\n",
              "      background-color: #434B5C;\n",
              "      box-shadow: 0px 1px 3px 1px rgba(0, 0, 0, 0.15);\n",
              "      filter: drop-shadow(0px 1px 2px rgba(0, 0, 0, 0.3));\n",
              "      fill: #FFFFFF;\n",
              "    }\n",
              "  </style>\n",
              "\n",
              "      <script>\n",
              "        const buttonEl =\n",
              "          document.querySelector('#df-e693d719-5522-4cb0-8302-72a9d53814a9 button.colab-df-convert');\n",
              "        buttonEl.style.display =\n",
              "          google.colab.kernel.accessAllowed ? 'block' : 'none';\n",
              "\n",
              "        async function convertToInteractive(key) {\n",
              "          const element = document.querySelector('#df-e693d719-5522-4cb0-8302-72a9d53814a9');\n",
              "          const dataTable =\n",
              "            await google.colab.kernel.invokeFunction('convertToInteractive',\n",
              "                                                     [key], {});\n",
              "          if (!dataTable) return;\n",
              "\n",
              "          const docLinkHtml = 'Like what you see? Visit the ' +\n",
              "            '<a target=\"_blank\" href=https://colab.research.google.com/notebooks/data_table.ipynb>data table notebook</a>'\n",
              "            + ' to learn more about interactive tables.';\n",
              "          element.innerHTML = '';\n",
              "          dataTable['output_type'] = 'display_data';\n",
              "          await google.colab.output.renderOutput(dataTable, element);\n",
              "          const docLink = document.createElement('div');\n",
              "          docLink.innerHTML = docLinkHtml;\n",
              "          element.appendChild(docLink);\n",
              "        }\n",
              "      </script>\n",
              "    </div>\n",
              "  </div>\n",
              "  "
            ],
            "text/plain": [
              "   Id  LotFrontage  LotArea  ...  KitchenAbvGr  YrSold  SalePrice\n",
              "0   1           65     8450  ...             1    2008     208500\n",
              "1   2           80     9600  ...             1    2007     181500\n",
              "2   3           68    11250  ...             1    2008     223500\n",
              "3   4           60     9550  ...             1    2006     140000\n",
              "4   5           84    14260  ...             1    2008     250000\n",
              "\n",
              "[5 rows x 8 columns]"
            ]
          },
          "metadata": {},
          "execution_count": 154
        }
      ]
    },
    {
      "cell_type": "markdown",
      "source": [
        "**Part *A*:**"
      ],
      "metadata": {
        "id": "xO1-7LOpz3EO"
      }
    },
    {
      "cell_type": "code",
      "source": [
        "shuffled_data = data_df.sample(frac=1, random_state=0)\n",
        "shuffled_data.head()"
      ],
      "metadata": {
        "colab": {
          "base_uri": "https://localhost:8080/",
          "height": 206
        },
        "id": "Nxc3VdK0lFZ-",
        "outputId": "d394ce9b-a128-43a1-9298-72b1501fa636"
      },
      "execution_count": 155,
      "outputs": [
        {
          "output_type": "execute_result",
          "data": {
            "text/html": [
              "\n",
              "  <div id=\"df-8946b2ff-e45d-4b5d-a13e-cc5dc69c938c\">\n",
              "    <div class=\"colab-df-container\">\n",
              "      <div>\n",
              "<style scoped>\n",
              "    .dataframe tbody tr th:only-of-type {\n",
              "        vertical-align: middle;\n",
              "    }\n",
              "\n",
              "    .dataframe tbody tr th {\n",
              "        vertical-align: top;\n",
              "    }\n",
              "\n",
              "    .dataframe thead th {\n",
              "        text-align: right;\n",
              "    }\n",
              "</style>\n",
              "<table border=\"1\" class=\"dataframe\">\n",
              "  <thead>\n",
              "    <tr style=\"text-align: right;\">\n",
              "      <th></th>\n",
              "      <th>Id</th>\n",
              "      <th>LotFrontage</th>\n",
              "      <th>LotArea</th>\n",
              "      <th>YearBuilt</th>\n",
              "      <th>BedroomAbvGr</th>\n",
              "      <th>KitchenAbvGr</th>\n",
              "      <th>YrSold</th>\n",
              "      <th>SalePrice</th>\n",
              "    </tr>\n",
              "  </thead>\n",
              "  <tbody>\n",
              "    <tr>\n",
              "      <th>198</th>\n",
              "      <td>199</td>\n",
              "      <td>63</td>\n",
              "      <td>5000</td>\n",
              "      <td>1900</td>\n",
              "      <td>3</td>\n",
              "      <td>1</td>\n",
              "      <td>2006</td>\n",
              "      <td>79000</td>\n",
              "    </tr>\n",
              "    <tr>\n",
              "      <th>328</th>\n",
              "      <td>329</td>\n",
              "      <td>38</td>\n",
              "      <td>14963</td>\n",
              "      <td>1996</td>\n",
              "      <td>1</td>\n",
              "      <td>1</td>\n",
              "      <td>2008</td>\n",
              "      <td>245500</td>\n",
              "    </tr>\n",
              "    <tr>\n",
              "      <th>45</th>\n",
              "      <td>46</td>\n",
              "      <td>60</td>\n",
              "      <td>7134</td>\n",
              "      <td>1955</td>\n",
              "      <td>3</td>\n",
              "      <td>1</td>\n",
              "      <td>2007</td>\n",
              "      <td>130000</td>\n",
              "    </tr>\n",
              "    <tr>\n",
              "      <th>263</th>\n",
              "      <td>264</td>\n",
              "      <td>94</td>\n",
              "      <td>13005</td>\n",
              "      <td>1980</td>\n",
              "      <td>4</td>\n",
              "      <td>1</td>\n",
              "      <td>2009</td>\n",
              "      <td>260000</td>\n",
              "    </tr>\n",
              "    <tr>\n",
              "      <th>621</th>\n",
              "      <td>622</td>\n",
              "      <td>59</td>\n",
              "      <td>10593</td>\n",
              "      <td>1996</td>\n",
              "      <td>3</td>\n",
              "      <td>1</td>\n",
              "      <td>2010</td>\n",
              "      <td>260400</td>\n",
              "    </tr>\n",
              "  </tbody>\n",
              "</table>\n",
              "</div>\n",
              "      <button class=\"colab-df-convert\" onclick=\"convertToInteractive('df-8946b2ff-e45d-4b5d-a13e-cc5dc69c938c')\"\n",
              "              title=\"Convert this dataframe to an interactive table.\"\n",
              "              style=\"display:none;\">\n",
              "        \n",
              "  <svg xmlns=\"http://www.w3.org/2000/svg\" height=\"24px\"viewBox=\"0 0 24 24\"\n",
              "       width=\"24px\">\n",
              "    <path d=\"M0 0h24v24H0V0z\" fill=\"none\"/>\n",
              "    <path d=\"M18.56 5.44l.94 2.06.94-2.06 2.06-.94-2.06-.94-.94-2.06-.94 2.06-2.06.94zm-11 1L8.5 8.5l.94-2.06 2.06-.94-2.06-.94L8.5 2.5l-.94 2.06-2.06.94zm10 10l.94 2.06.94-2.06 2.06-.94-2.06-.94-.94-2.06-.94 2.06-2.06.94z\"/><path d=\"M17.41 7.96l-1.37-1.37c-.4-.4-.92-.59-1.43-.59-.52 0-1.04.2-1.43.59L10.3 9.45l-7.72 7.72c-.78.78-.78 2.05 0 2.83L4 21.41c.39.39.9.59 1.41.59.51 0 1.02-.2 1.41-.59l7.78-7.78 2.81-2.81c.8-.78.8-2.07 0-2.86zM5.41 20L4 18.59l7.72-7.72 1.47 1.35L5.41 20z\"/>\n",
              "  </svg>\n",
              "      </button>\n",
              "      \n",
              "  <style>\n",
              "    .colab-df-container {\n",
              "      display:flex;\n",
              "      flex-wrap:wrap;\n",
              "      gap: 12px;\n",
              "    }\n",
              "\n",
              "    .colab-df-convert {\n",
              "      background-color: #E8F0FE;\n",
              "      border: none;\n",
              "      border-radius: 50%;\n",
              "      cursor: pointer;\n",
              "      display: none;\n",
              "      fill: #1967D2;\n",
              "      height: 32px;\n",
              "      padding: 0 0 0 0;\n",
              "      width: 32px;\n",
              "    }\n",
              "\n",
              "    .colab-df-convert:hover {\n",
              "      background-color: #E2EBFA;\n",
              "      box-shadow: 0px 1px 2px rgba(60, 64, 67, 0.3), 0px 1px 3px 1px rgba(60, 64, 67, 0.15);\n",
              "      fill: #174EA6;\n",
              "    }\n",
              "\n",
              "    [theme=dark] .colab-df-convert {\n",
              "      background-color: #3B4455;\n",
              "      fill: #D2E3FC;\n",
              "    }\n",
              "\n",
              "    [theme=dark] .colab-df-convert:hover {\n",
              "      background-color: #434B5C;\n",
              "      box-shadow: 0px 1px 3px 1px rgba(0, 0, 0, 0.15);\n",
              "      filter: drop-shadow(0px 1px 2px rgba(0, 0, 0, 0.3));\n",
              "      fill: #FFFFFF;\n",
              "    }\n",
              "  </style>\n",
              "\n",
              "      <script>\n",
              "        const buttonEl =\n",
              "          document.querySelector('#df-8946b2ff-e45d-4b5d-a13e-cc5dc69c938c button.colab-df-convert');\n",
              "        buttonEl.style.display =\n",
              "          google.colab.kernel.accessAllowed ? 'block' : 'none';\n",
              "\n",
              "        async function convertToInteractive(key) {\n",
              "          const element = document.querySelector('#df-8946b2ff-e45d-4b5d-a13e-cc5dc69c938c');\n",
              "          const dataTable =\n",
              "            await google.colab.kernel.invokeFunction('convertToInteractive',\n",
              "                                                     [key], {});\n",
              "          if (!dataTable) return;\n",
              "\n",
              "          const docLinkHtml = 'Like what you see? Visit the ' +\n",
              "            '<a target=\"_blank\" href=https://colab.research.google.com/notebooks/data_table.ipynb>data table notebook</a>'\n",
              "            + ' to learn more about interactive tables.';\n",
              "          element.innerHTML = '';\n",
              "          dataTable['output_type'] = 'display_data';\n",
              "          await google.colab.output.renderOutput(dataTable, element);\n",
              "          const docLink = document.createElement('div');\n",
              "          docLink.innerHTML = docLinkHtml;\n",
              "          element.appendChild(docLink);\n",
              "        }\n",
              "      </script>\n",
              "    </div>\n",
              "  </div>\n",
              "  "
            ],
            "text/plain": [
              "      Id  LotFrontage  LotArea  ...  KitchenAbvGr  YrSold  SalePrice\n",
              "198  199           63     5000  ...             1    2006      79000\n",
              "328  329           38    14963  ...             1    2008     245500\n",
              "45    46           60     7134  ...             1    2007     130000\n",
              "263  264           94    13005  ...             1    2009     260000\n",
              "621  622           59    10593  ...             1    2010     260400\n",
              "\n",
              "[5 rows x 8 columns]"
            ]
          },
          "metadata": {},
          "execution_count": 155
        }
      ]
    },
    {
      "cell_type": "code",
      "source": [
        "feathers = ['LotFrontage', 'LotArea', 'YearBuilt', 'BedroomAbvGr', 'KitchenAbvGr', 'YrSold']\n",
        "target = ['SalePrice']"
      ],
      "metadata": {
        "id": "hGQNWc-Ulhj2"
      },
      "execution_count": 43,
      "outputs": []
    },
    {
      "cell_type": "code",
      "source": [
        "x, y = np.asarray(shuffled_data[feathers]), np.asarray(shuffled_data[target]).reshape(-1, 1)\n",
        "print(x.shape)\n",
        "print(y.shape)"
      ],
      "metadata": {
        "colab": {
          "base_uri": "https://localhost:8080/"
        },
        "id": "vJLtfLRUo70C",
        "outputId": "90c1d0ea-565f-4898-91d4-c9672df86f2a"
      },
      "execution_count": 157,
      "outputs": [
        {
          "output_type": "stream",
          "name": "stdout",
          "text": [
            "(1200, 6)\n",
            "(1200, 1)\n"
          ]
        }
      ]
    },
    {
      "cell_type": "code",
      "source": [
        "x_test, y_test = x[:600], y[:600]\n",
        "x_train, y_train = x[600:], y[600:]"
      ],
      "metadata": {
        "id": "k5V2kFNlmVKp"
      },
      "execution_count": 45,
      "outputs": []
    },
    {
      "cell_type": "code",
      "source": [
        "print(f'x_test shape: {x_test.shape}')\n",
        "print(f'y_test shape: {y_test.shape}')\n",
        "print()\n",
        "print(f'x_train shape: {x_train.shape}')\n",
        "print(f'y_train shape: {y_train.shape}')"
      ],
      "metadata": {
        "colab": {
          "base_uri": "https://localhost:8080/"
        },
        "id": "_b-rWrLepaJP",
        "outputId": "fac03dc6-d054-4637-f805-3e54ea1cf55a"
      },
      "execution_count": 156,
      "outputs": [
        {
          "output_type": "stream",
          "name": "stdout",
          "text": [
            "x_test shape: (600, 6)\n",
            "y_test shape: (600, 1)\n",
            "\n",
            "x_train shape: (600, 6)\n",
            "y_train shape: (600, 1)\n"
          ]
        }
      ]
    },
    {
      "cell_type": "markdown",
      "source": [
        "**Part *B*:**"
      ],
      "metadata": {
        "id": "staMSfyxz9wS"
      }
    },
    {
      "cell_type": "code",
      "source": [
        "regressor = linear_model.LinearRegression()\n",
        "# regs_Model = regressor.fit(x_train[:20], y_train[:20])\n",
        "# print(regs_Model.coef_)\n",
        "# print(regs_Model.intercept_)"
      ],
      "metadata": {
        "id": "tS74mfP4pWkU"
      },
      "execution_count": 78,
      "outputs": []
    },
    {
      "cell_type": "code",
      "source": [
        "regs_Model = regressor.fit(x_train[:20], y_train[:20])\n",
        "\n",
        "y_pred = regs_Model.predict(x_train[:20])\n",
        "print(\"Mean Absolute Error for Train Data: \", round(mae(y_train[:20], y_pred), 2))\n",
        "\n",
        "y_pred = regs_Model.predict(x_test[:20])\n",
        "print(\"Mean Absolute Error for Test Data: \", round(mae(y_test[:20], y_pred), 2))"
      ],
      "metadata": {
        "colab": {
          "base_uri": "https://localhost:8080/"
        },
        "id": "OtDFtWghp5rU",
        "outputId": "ef50288a-9117-4ba2-8595-3af19148632d"
      },
      "execution_count": 83,
      "outputs": [
        {
          "output_type": "stream",
          "name": "stdout",
          "text": [
            "Mean Absolute Error for Train Data:  43655.49\n",
            "Mean Absolute Error for Test Data:  38910.63\n"
          ]
        }
      ]
    },
    {
      "cell_type": "markdown",
      "source": [
        "**Part *C*:**"
      ],
      "metadata": {
        "id": "4QBYq9y60GAv"
      }
    },
    {
      "cell_type": "code",
      "source": [
        "trainData_MAEs = []\n",
        "testData_MAEs = []\n",
        "P_Values = []\n",
        "n_samples = []"
      ],
      "metadata": {
        "id": "AoAyTPkt3-pa"
      },
      "execution_count": 130,
      "outputs": []
    },
    {
      "cell_type": "code",
      "source": [
        "for i in range(1, (100//20)+1):\n",
        "    regs_Model = regressor.fit(x_train[:i*20], y_train[:i*20])\n",
        "\n",
        "    y_pred_train = regs_Model.predict(x_train[:i*20])\n",
        "    trainData_MAEs.append(round(mae(y_train[:i*20], y_pred_train), 2))\n",
        "\n",
        "    y_pred_test = regs_Model.predict(x_test[:i*20])\n",
        "    testData_MAEs.append(round(mae(y_test[:i*20], y_pred_test), 2))\n",
        "\n",
        "    n_samples.append(i*20)"
      ],
      "metadata": {
        "id": "AGEu9kcz4BQO"
      },
      "execution_count": 131,
      "outputs": []
    },
    {
      "cell_type": "code",
      "source": [
        "for i in range(2, (600//100)+1):\n",
        "    regs_Model = regressor.fit(x_train[:i*100], y_train[:i*100])\n",
        "\n",
        "    y_pred_train = regs_Model.predict(x_train[:i*100])\n",
        "    trainData_MAEs.append(round(mae(y_train[:i*100], y_pred_train), 2))\n",
        "\n",
        "    y_pred_test = regs_Model.predict(x_test[:i*100])\n",
        "    testData_MAEs.append(round(mae(y_test[:i*100], y_pred_test), 2))\n",
        "\n",
        "    n_samples.append(i*100)"
      ],
      "metadata": {
        "id": "3tSgPt9H4Edw"
      },
      "execution_count": 132,
      "outputs": []
    },
    {
      "cell_type": "code",
      "source": [
        "print(trainData_MAEs)\n",
        "print(testData_MAEs)\n",
        "print(P_Values)\n",
        "print(n_samples)\n",
        "\n",
        "len(trainData_MAEs) == len(testData_MAEs) == len(n_samples)"
      ],
      "metadata": {
        "colab": {
          "base_uri": "https://localhost:8080/"
        },
        "id": "EcXWvIy9tU3v",
        "outputId": "16a0c261-c107-4ddb-adca-94df4db2e534"
      },
      "execution_count": 133,
      "outputs": [
        {
          "output_type": "stream",
          "name": "stdout",
          "text": [
            "[43655.49, 41214.05, 39462.96, 39835.75, 43305.32, 43322.85, 43465.21, 43284.68, 42211.21, 41983.52]\n",
            "[38910.63, 31333.37, 35805.56, 37010.4, 39165.77, 39952.29, 42080.8, 47043.68, 46783.71, 44398.82]\n",
            "[]\n",
            "[20, 40, 60, 80, 100, 200, 300, 400, 500, 600]\n"
          ]
        },
        {
          "output_type": "execute_result",
          "data": {
            "text/plain": [
              "True"
            ]
          },
          "metadata": {},
          "execution_count": 133
        }
      ]
    },
    {
      "cell_type": "code",
      "source": [
        "plt.scatter(n_samples, trainData_MAEs, c='k')\n",
        "plt.title(\"Train Data MAE\")\n",
        "plt.xlabel(\"n of samples\")\n",
        "plt.ylabel(\"mean standard error\\n$\")\n",
        "plt.show()\n",
        "\n",
        "print()\n",
        "\n",
        "plt.scatter(n_samples, testData_MAEs, c='r')\n",
        "plt.title(\"Test Data MAE\")\n",
        "plt.xlabel(\"n of samples\")\n",
        "plt.ylabel(\"mean standard error\\n$\")\n",
        "plt.show()"
      ],
      "metadata": {
        "colab": {
          "base_uri": "https://localhost:8080/",
          "height": 590
        },
        "id": "oqTCTJQLwyQW",
        "outputId": "2796b1f9-72c3-4185-f8fd-c21fc77eba5e"
      },
      "execution_count": 136,
      "outputs": [
        {
          "output_type": "display_data",
          "data": {
            "image/png": "[encoded data removed]",
            "text/plain": [
              "<Figure size 432x288 with 1 Axes>"
            ]
          },
          "metadata": {
            "needs_background": "light"
          }
        },
        {
          "output_type": "stream",
          "name": "stdout",
          "text": [
            "\n"
          ]
        },
        {
          "output_type": "display_data",
          "data": {
            "image/png": "[encoded data removed]",
            "text/plain": [
              "<Figure size 432x288 with 1 Axes>"
            ]
          },
          "metadata": {
            "needs_background": "light"
          }
        }
      ]
    },
    {
      "cell_type": "code",
      "source": [
        ""
      ],
      "metadata": {
        "id": "5NlM5Da31TqV"
      },
      "execution_count": null,
      "outputs": []
    }
  ]
}